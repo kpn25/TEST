{
 "cells": [
  {
   "cell_type": "code",
   "execution_count": 2,
   "id": "106151a9-8ac9-4a75-bcff-8d915b588abf",
   "metadata": {},
   "outputs": [
    {
     "name": "stdout",
     "output_type": "stream",
     "text": [
      "The result is 600\n",
      "The result is 70\n"
     ]
    }
   ],
   "source": [
    "#Excercise-1\n",
    "#Calculate the multiplication and sum of two numbers\n",
    "#Given two integer numbers,return their product only if the product is equal to or lower than 1000.Otherwise return their sum\n",
    "def multiplication_or_sum(num1,num2):\n",
    "#Calculate the product of two number\n",
    "        product=num1*num2\n",
    "#Check if product is less than 1000\n",
    "        if product<=1000:\n",
    "            return product\n",
    "        else:\n",
    "            return num1+num2\n",
    "# first condition\n",
    "result=multiplication_or_sum(20,30)\n",
    "print(\"The result is\",result)\n",
    "# Second condition\n",
    "result=multiplication_or_sum(40,30)\n",
    "print(\"The result is\",result)\n"
   ]
  },
  {
   "cell_type": "code",
   "execution_count": 3,
   "id": "f928de53-2210-4fa4-b2ec-6226f60576a3",
   "metadata": {},
   "outputs": [
    {
     "name": "stdout",
     "output_type": "stream",
     "text": [
      "Printing current and previous number and their sum in a range(10)\n",
      "Current number 1 Previous number 0 sum 1\n",
      "Current number 2 Previous number 1 sum 3\n",
      "Current number 3 Previous number 2 sum 5\n",
      "Current number 4 Previous number 3 sum 7\n",
      "Current number 5 Previous number 4 sum 9\n",
      "Current number 6 Previous number 5 sum 11\n",
      "Current number 7 Previous number 6 sum 13\n",
      "Current number 8 Previous number 7 sum 15\n",
      "Current number 9 Previous number 8 sum 17\n",
      "Current number 10 Previous number 9 sum 19\n"
     ]
    }
   ],
   "source": [
    "#Excercise-2\n",
    "#Print the sum of the current and previous numbers\n",
    "#Write a program to iterate first 10 numbers and in each iteration,print the sum of the current and previous number.\n",
    "print(\"Printing current and previous number and their sum in a range(10)\")\n",
    "previous_num=0\n",
    "# Loop from 1 to 10\n",
    "for i in range (1,11):\n",
    "    x_sum=previous_num+i\n",
    "    print(\"Current number\",i,\"Previous number\",previous_num,\"sum\",x_sum)\n",
    "    #modify previous number\n",
    "    #set it to current number\n",
    "    previous_num=i\n",
    "    "
   ]
  },
  {
   "cell_type": "code",
   "execution_count": 2,
   "id": "0ee488ba-a559-417f-85e7-84b691859b12",
   "metadata": {},
   "outputs": [
    {
     "name": "stdin",
     "output_type": "stream",
     "text": [
      "Enter word python\n"
     ]
    },
    {
     "name": "stdout",
     "output_type": "stream",
     "text": [
      "Original string python\n",
      "printing only even index chars\n",
      "index[ 0 ] p\n",
      "index[ 2 ] t\n",
      "index[ 4 ] o\n"
     ]
    }
   ],
   "source": [
    "#Excercise-3\n",
    "#Print characters from string that are present at an even index number \n",
    "#Write a program to accept a string from the user and display characters that are present at an even index number\n",
    "#Accept input string ffrom user\n",
    "word=input('Enter word')\n",
    "print(\"Original string\",word)\n",
    "#get the length of the string\n",
    "size=len(word)\n",
    "# iterate a character of string\n",
    "#Start:0 to start with first character\n",
    "#stop: size-1 because index starts with 0\n",
    "# Step: 2 to get the charcters present in the even index 0,2,4\n",
    "print(\"printing only even index chars\")\n",
    "for i in range(0,size-1,2):\n",
    "    print(\"index[\" ,i, \"]\",word[i])\n",
    "\n"
   ]
  },
  {
   "cell_type": "code",
   "execution_count": 9,
   "id": "be2f5dce-9028-4796-8dca-2bcc896a2d7c",
   "metadata": {},
   "outputs": [
    {
     "name": "stdin",
     "output_type": "stream",
     "text": [
      "Enter word python\n"
     ]
    },
    {
     "name": "stdout",
     "output_type": "stream",
     "text": [
      "Original string python\n",
      "p\n",
      "t\n",
      "o\n"
     ]
    }
   ],
   "source": [
    "#Excercise-3 Alternate method\n",
    "#Accept input string from user\n",
    "word=input(\"Enter word\")\n",
    "print(\"Original string\",word)\n",
    "#Using list slicing\n",
    "#Convert string to list\n",
    "#pick only even index chars\n",
    "x=list(word)\n",
    "for i in x[0::2]:\n",
    "    print(i)"
   ]
  },
  {
   "cell_type": "code",
   "execution_count": 1,
   "id": "ac7c7a79-fe7e-4fad-a4a6-d0874837ef91",
   "metadata": {},
   "outputs": [
    {
     "name": "stdout",
     "output_type": "stream",
     "text": [
      "Removing characters from string\n",
      "Original string Science\n",
      "ce\n",
      "Original string Science\n",
      "ience\n"
     ]
    }
   ],
   "source": [
    "#Excercise-4\n",
    "#Remove first n charcter from string\n",
    "#Write a program to remove characters from string starting from zero upto n and return a new string\n",
    "def remove_char_string(word,n):\n",
    "    print(\"Original string\",word)\n",
    "    x=word[n:]\n",
    "    return x\n",
    "print(\"Removing characters from string\")\n",
    "print(remove_char_string(\"Science\",5))\n",
    "print(remove_char_string(\"Science\",2))\n"
   ]
  },
  {
   "cell_type": "code",
   "execution_count": 16,
   "id": "52a80a70-d844-45e7-a295-9ac1c0c20453",
   "metadata": {},
   "outputs": [
    {
     "name": "stdout",
     "output_type": "stream",
     "text": [
      "ce\n"
     ]
    }
   ],
   "source": [
    "#Alternate method to solve the Excercise-4\n",
    "x=\"Science\"\n",
    "print(x[5:])\n"
   ]
  },
  {
   "cell_type": "code",
   "execution_count": 19,
   "id": "6342c129-68be-40db-ad2b-204a353449a3",
   "metadata": {},
   "outputs": [
    {
     "name": "stdout",
     "output_type": "stream",
     "text": [
      "The result is True\n",
      "The result is False\n"
     ]
    }
   ],
   "source": [
    "#Excercise-5 Check if the first and last number of a list is the same\n",
    "#Write a function and return True if the first and last number of a given list is same.If the numbers are different then return False\n",
    "numbers_x=[10,20,30,40,10]\n",
    "numbers_y=[75,65,35,75,30]\n",
    "if numbers_x[0]==numbers_x[-1]:\n",
    "    print(\"The result is\",True)\n",
    "else:\n",
    "    print(\"The result is\",False)\n",
    "\n",
    "if numbers_y[0]==numbers_y[-1]:\n",
    "    print(\"The result is\",True)\n",
    "else:\n",
    "    print(\"The result is\", False)\n"
   ]
  },
  {
   "cell_type": "code",
   "execution_count": 3,
   "id": "a2488b7c-c5a0-4727-89dd-38ca6c969d9a",
   "metadata": {},
   "outputs": [
    {
     "name": "stdout",
     "output_type": "stream",
     "text": [
      "Given List: [10, 20, 30, 40, 10]\n",
      "result is True\n",
      "Given List: [75, 65, 35, 75, 30]\n",
      "result is False\n"
     ]
    }
   ],
   "source": [
    "#Alternate method for solving Excercise-5\n",
    "def first_last_same(numberList):\n",
    "    print (\"Given List:\",numberList)\n",
    "    first_num=numberList[0]\n",
    "    last_num=numberList[-1]\n",
    "    if first_num==last_num:\n",
    "        return True\n",
    "    else:\n",
    "        return False\n",
    "numbers_x=[10,20,30,40,10]\n",
    "print(\"result is\",first_last_same(numbers_x))\n",
    "numbers_y=[75,65,35,75,30]\n",
    "print(\"result is\",first_last_same(numbers_y))\n",
    "\n",
    "    "
   ]
  },
  {
   "cell_type": "code",
   "execution_count": 6,
   "id": "7200ce8f-4e37-491c-9ecc-876c5182abc1",
   "metadata": {},
   "outputs": [
    {
     "name": "stdout",
     "output_type": "stream",
     "text": [
      "Given number of List: [10, 20, 33, 46, 55]\n",
      "Divisible by 5:\n",
      "10\n",
      "20\n",
      "55\n"
     ]
    }
   ],
   "source": [
    "#Excercise-6-Display numbers divisible by 5 from a list\n",
    "#Iterate the given list of numbers and print only those numbers which are divisble by 5\n",
    "num_list=[10,20,33,46,55]\n",
    "print(\"Given number of List:\",num_list)\n",
    "print('Divisible by 5:')\n",
    "for i in num_list:\n",
    "    if i %5==0:\n",
    "        print(i)"
   ]
  },
  {
   "cell_type": "code",
   "execution_count": 7,
   "id": "03487c48-2a77-476e-9972-f19dd5f15f74",
   "metadata": {},
   "outputs": [
    {
     "name": "stdout",
     "output_type": "stream",
     "text": [
      "3\n"
     ]
    }
   ],
   "source": [
    "#Excercise-7 Return the count of given substring from the string\n",
    "#Write a program to find how many times substring \"Emmma\" appears in the given string\n",
    "str_x=\"Emma is a good creator. Emma is a good writer. Emma is developer\"\n",
    "y=str_x.count(\"Emma\")\n",
    "print(y)"
   ]
  },
  {
   "cell_type": "code",
   "execution_count": 10,
   "id": "e02ddf3a-2b17-41a1-a52c-0e152525f410",
   "metadata": {},
   "outputs": [
    {
     "name": "stdout",
     "output_type": "stream",
     "text": [
      "\n",
      "\n",
      "1 \n",
      "\n",
      "2 2 \n",
      "\n",
      "3 3 3 \n",
      "\n",
      "4 4 4 4 \n",
      "\n"
     ]
    }
   ],
   "source": [
    "#Excercise-8  Print the pattern\n",
    "for x in range(5):\n",
    "    for i in range(x):\n",
    "        print(x,end=' ')\n",
    "    print('\\n')\n"
   ]
  },
  {
   "cell_type": "code",
   "execution_count": 34,
   "id": "3780ca60-0f0e-49f2-a6c2-0861ccc485ae",
   "metadata": {},
   "outputs": [
    {
     "name": "stdout",
     "output_type": "stream",
     "text": [
      "Original number 121\n",
      "The Given number is Palindrome\n",
      "Original number 125\n",
      "The Given number is not Palindrome\n"
     ]
    }
   ],
   "source": [
    "# Excercise-9 Check Palindrome number\n",
    "# Write a program to check the given number is palindrome number.\n",
    "# A palindrome number is the number that is same even after reversing it.For example 545,121 is the palindrome number.\n",
    "def palindrome(number):\n",
    "    print(\"Original number\",number)\n",
    "    original_num=number\n",
    "#reverse the given number\n",
    "    reverse_num=0\n",
    "    while number>0:\n",
    "        reminder=number%10\n",
    "        reverse_num=(reverse_num*10)+reminder\n",
    "        number=number//10\n",
    "# Check numbers for palindrome\n",
    "    if original_num==reverse_num:\n",
    "        print(\"The Given number is Palindrome\")\n",
    "    else:\n",
    "        print(\"The Given number is not Palindrome\")\n",
    "\n",
    "\n",
    "palindrome(121)\n",
    "palindrome(125)\n",
    "\n"
   ]
  },
  {
   "cell_type": "code",
   "execution_count": null,
   "id": "e00e1d0f-a5d0-4f2b-ad0c-8b698456907d",
   "metadata": {},
   "outputs": [],
   "source": []
  },
  {
   "cell_type": "code",
   "execution_count": 36,
   "id": "c126d4c3-2c14-4a34-8081-282b2c4ae7d7",
   "metadata": {},
   "outputs": [
    {
     "name": "stdout",
     "output_type": "stream",
     "text": [
      "12\n"
     ]
    }
   ],
   "source": [
    "x=125\n",
    "y=10\n",
    "z=x//y\n",
    "print(z)"
   ]
  },
  {
   "cell_type": "code",
   "execution_count": 17,
   "id": "ef687cd4-cb29-4ade-9068-27baf43f92a7",
   "metadata": {},
   "outputs": [
    {
     "name": "stdout",
     "output_type": "stream",
     "text": [
      "12.1\n"
     ]
    }
   ],
   "source": [
    "x=121\n",
    "y=10\n",
    "z=x/y\n",
    "print(z)"
   ]
  },
  {
   "cell_type": "code",
   "execution_count": 35,
   "id": "908e9a58-7a6e-4537-b585-096a19a85942",
   "metadata": {},
   "outputs": [
    {
     "name": "stdout",
     "output_type": "stream",
     "text": [
      "5\n"
     ]
    }
   ],
   "source": [
    "x=125\n",
    "y=10\n",
    "z=x%y\n",
    "print(z)"
   ]
  },
  {
   "cell_type": "code",
   "execution_count": 4,
   "id": "8ab56c3e-1a3a-4a8b-8b6d-0914cc066c8d",
   "metadata": {},
   "outputs": [
    {
     "name": "stdout",
     "output_type": "stream",
     "text": [
      "result list is: [25, 35, 40, 60, 90]\n"
     ]
    }
   ],
   "source": [
    "#Excercise-10 Create a new list from 2 list using the following condition\n",
    "#Given two list of numbers,write a program to create a new list such that new list should contain odd numbers from the first list and even numbers from the second list.\n",
    "def merge_list(list1,list2):\n",
    "    list3=[]\n",
    "# Iterate the first list\n",
    "    for x in list1:\n",
    "    #check if current number is odd\n",
    "        if x%2!=0:\n",
    "    # add odd number to the list3\n",
    "            list3.append(x)\n",
    "# Iterate the second list\n",
    "    for y in list2:\n",
    "    #check if current number is even\n",
    "        if y%2==0:\n",
    "        #add even number to the list3\n",
    "            list3.append(y)\n",
    "    return list3\n",
    "list1=[10,20,25,30,35]\n",
    "list2=[40,45,60,75,90]\n",
    "print(\"result list is:\",merge_list(list1,list2))\n",
    "\n",
    "\n",
    "    \n",
    "    "
   ]
  },
  {
   "cell_type": "code",
   "execution_count": 8,
   "id": "c6a6e47c-96eb-4864-9c1c-7dc8f4257f84",
   "metadata": {},
   "outputs": [
    {
     "name": "stdout",
     "output_type": "stream",
     "text": [
      "Given number: 7536\n",
      "6 3 5 7 "
     ]
    }
   ],
   "source": [
    "#Excercise-11 Write a program to extract each digit from an integer in the reverse order.\n",
    "number=7536\n",
    "print(\"Given number:\",number)\n",
    "while number>0:\n",
    "    #get the last digit\n",
    "    digit=number%10\n",
    "    #remove the last digit and repeat the loop\n",
    "    number=number//10\n",
    "    print(digit,end=\" \")"
   ]
  },
  {
   "cell_type": "code",
   "execution_count": 6,
   "id": "0bcdaa42-1e32-4045-89fe-e74db9db15e3",
   "metadata": {},
   "outputs": [
    {
     "name": "stdout",
     "output_type": "stream",
     "text": [
      "6\n"
     ]
    }
   ],
   "source": [
    "x=7536\n",
    "digit=x%10\n",
    "print(digit)"
   ]
  },
  {
   "cell_type": "code",
   "execution_count": 7,
   "id": "e1ba3ebb-c37b-4d8d-b2ab-ccc11fa3516a",
   "metadata": {},
   "outputs": [
    {
     "name": "stdout",
     "output_type": "stream",
     "text": [
      "753\n"
     ]
    }
   ],
   "source": [
    "y=x//10\n",
    "print(y)"
   ]
  },
  {
   "cell_type": "code",
   "execution_count": 2,
   "id": "4b8f3e4d-b1f7-4449-9cf2-d3acaf266422",
   "metadata": {},
   "outputs": [
    {
     "name": "stdout",
     "output_type": "stream",
     "text": [
      "Given income 45000\n",
      "The total tax to pay is 6000.0\n"
     ]
    }
   ],
   "source": [
    "#Excercise-12 Calculate the income tax for the given income by adhering to the rules below\n",
    "#Taxable income    Rate\n",
    "# $10000           0%\n",
    "# Next $10000      10%\n",
    "# The remaining    20%\n",
    "income=45000\n",
    "tax_payable=0\n",
    "print(\"Given income\",income)\n",
    "if income<=10000:\n",
    "    tax_payable=0\n",
    "elif income<=20000:\n",
    "    # no tax on first 10000\n",
    "    x=income-10000\n",
    "    # 10% tax\n",
    "    tax_payable=x*10/100\n",
    "else:\n",
    "    #first 10000 tax is 0\n",
    "    tax_payable=0\n",
    "    # Next 10000, tax is 10%\n",
    "    tax_payable=10000*10/100\n",
    "    #remaining amount, tax is 20%\n",
    "    tax_payable+=(income-20000)*20/100\n",
    "    print(\"The total tax to pay is\",tax_payable)"
   ]
  },
  {
   "cell_type": "code",
   "execution_count": 5,
   "id": "d83891ce-f520-4fb6-ba3d-7dccde8a8d03",
   "metadata": {},
   "outputs": [
    {
     "name": "stdout",
     "output_type": "stream",
     "text": [
      "1 2 3 4 5 6 7 8 9 10 \t\t\n",
      "2 4 6 8 10 12 14 16 18 20 \t\t\n",
      "3 6 9 12 15 18 21 24 27 30 \t\t\n",
      "4 8 12 16 20 24 28 32 36 40 \t\t\n",
      "5 10 15 20 25 30 35 40 45 50 \t\t\n",
      "6 12 18 24 30 36 42 48 54 60 \t\t\n",
      "7 14 21 28 35 42 49 56 63 70 \t\t\n",
      "8 16 24 32 40 48 56 64 72 80 \t\t\n",
      "9 18 27 36 45 54 63 72 81 90 \t\t\n",
      "10 20 30 40 50 60 70 80 90 100 \t\t\n"
     ]
    }
   ],
   "source": [
    "#Excercise-13 Print multiplication table from 1 to 10\n",
    "for i in range(1,11):\n",
    "    for j in range(1,11):\n",
    "        print(i*j,end=\" \")\n",
    "    print(\"\\t\\t\")\n"
   ]
  },
  {
   "cell_type": "code",
   "execution_count": 12,
   "id": "1eb8330a-1786-49a6-8947-0eb8ac5cf97b",
   "metadata": {},
   "outputs": [
    {
     "name": "stdout",
     "output_type": "stream",
     "text": [
      "* * * * *  \n",
      "* * * *  \n",
      "* * *  \n",
      "* *  \n",
      "*  \n",
      " \n"
     ]
    }
   ],
   "source": [
    "#Excercise-14 Print a downward half-pyramid pattern of star (aestrisk)\n",
    "\n",
    "for i in range (6,0,-1):\n",
    "    for j in range (0,i-1):\n",
    "        print(\"*\",end=(\" \"))\n",
    "    print(\" \")\n"
   ]
  },
  {
   "cell_type": "code",
   "execution_count": 14,
   "id": "ed5a0f3a-5d32-4655-aee6-e1da97a2cdad",
   "metadata": {},
   "outputs": [
    {
     "name": "stdout",
     "output_type": "stream",
     "text": [
      "5 raises to the power of 4 is: 625\n"
     ]
    }
   ],
   "source": [
    "# Excercise-15 Write a function called exponent(base,exp) that returns an integer value of base raises to power of exponential\n",
    "#Note Here exp is a non-negative integer, and the base is an integer.\n",
    "def exponent(base,exp):\n",
    "    x=exp\n",
    "    y=1\n",
    "    while x>0:\n",
    "        y=y*base\n",
    "        x=x-1\n",
    "    print(base,\"raises to the power of\",exp,\"is:\",y)\n",
    "exponent(5,4)"
   ]
  },
  {
   "cell_type": "markdown",
   "id": "4adfae81-8148-4907-9aea-8b9abc5ad7c1",
   "metadata": {},
   "source": [
    "## PYTHON INPUT OUTPUT EXCERCISE\n"
   ]
  },
  {
   "cell_type": "code",
   "execution_count": 2,
   "id": "22313cb5-2f90-40c5-a303-6976c5987352",
   "metadata": {},
   "outputs": [
    {
     "name": "stdin",
     "output_type": "stream",
     "text": [
      "Enter first number 2\n",
      "Enter second number 4\n"
     ]
    },
    {
     "name": "stdout",
     "output_type": "stream",
     "text": [
      "Multiplication is 8\n"
     ]
    }
   ],
   "source": [
    "#Excercise-1 Accept numbers from users\n",
    "num1=int(input(\"Enter first number\"))\n",
    "num2=int(input(\"Enter second number\"))\n",
    "res=num1*num2\n",
    "print(\"Multiplication is\",res)"
   ]
  },
  {
   "cell_type": "code",
   "execution_count": 4,
   "id": "a428e02d-254b-4a4d-a964-093e559da413",
   "metadata": {},
   "outputs": [
    {
     "name": "stdout",
     "output_type": "stream",
     "text": [
      "Name**Is**James\n"
     ]
    }
   ],
   "source": [
    "#Excercise-2 Display three string \"Name\",\"Is\",\"James\" as \"Name**Is**James\"\n",
    "#Use the sep parameter of the print () function to define the seperator symbol between each word\n",
    "print(\"Name\",\"Is\",\"James\",sep='**')"
   ]
  },
  {
   "cell_type": "code",
   "execution_count": 9,
   "id": "1477cb2d-9115-482d-b637-d1b26a0025f6",
   "metadata": {},
   "outputs": [
    {
     "name": "stdout",
     "output_type": "stream",
     "text": [
      "10\n"
     ]
    }
   ],
   "source": [
    "#Excercise-3 Convert Decimal number to Octal number using print() output formatting\n",
    "num = 8\n",
    "#Use the %o formatting code in print() function to format decimal number to Octal\n",
    "print('%o' %num)"
   ]
  },
  {
   "cell_type": "code",
   "execution_count": 11,
   "id": "b2e5d15f-8852-497d-b2c2-3a910baf67d6",
   "metadata": {},
   "outputs": [
    {
     "name": "stdout",
     "output_type": "stream",
     "text": [
      "458.54\n"
     ]
    }
   ],
   "source": [
    "#Excercise-4 Display float number with 2 decimal places using print()\n",
    "num=458.541315\n",
    "#Use the %.2f formatting code in print() function to format float number to two decimal places\n",
    "print('%.2f' %num)"
   ]
  },
  {
   "cell_type": "code",
   "execution_count": 14,
   "id": "e31db790-4a26-4607-804d-2ec14705ec69",
   "metadata": {},
   "outputs": [
    {
     "name": "stdout",
     "output_type": "stream",
     "text": [
      "Enter number at location 0 :\n"
     ]
    },
    {
     "name": "stdin",
     "output_type": "stream",
     "text": [
      " 2.5\n"
     ]
    },
    {
     "name": "stdout",
     "output_type": "stream",
     "text": [
      "Enter number at location 1 :\n"
     ]
    },
    {
     "name": "stdin",
     "output_type": "stream",
     "text": [
      " 3.5\n"
     ]
    },
    {
     "name": "stdout",
     "output_type": "stream",
     "text": [
      "Enter number at location 2 :\n"
     ]
    },
    {
     "name": "stdin",
     "output_type": "stream",
     "text": [
      " 4.5\n"
     ]
    },
    {
     "name": "stdout",
     "output_type": "stream",
     "text": [
      "Enter number at location 3 :\n"
     ]
    },
    {
     "name": "stdin",
     "output_type": "stream",
     "text": [
      " 5.5\n"
     ]
    },
    {
     "name": "stdout",
     "output_type": "stream",
     "text": [
      "Enter number at location 4 :\n"
     ]
    },
    {
     "name": "stdin",
     "output_type": "stream",
     "text": [
      " 6.5\n"
     ]
    },
    {
     "name": "stdout",
     "output_type": "stream",
     "text": [
      "User List: [2.5, 3.5, 4.5, 5.5, 6.5]\n"
     ]
    }
   ],
   "source": [
    "#Excercise-5 Accept a list of  5 float numbers as an input from the user\n",
    "number=[]\n",
    "# 5 is the list size\n",
    "# run  the loop 5 times\n",
    "for i in range(0,5):\n",
    "    print(\"Enter number at location\",i,\":\")\n",
    "#Accept float number from user\n",
    "    item=float(input())\n",
    "#Add it to the list\n",
    "    number.append(item)\n",
    "\n",
    "print(\"User List:\",number)"
   ]
  },
  {
   "cell_type": "code",
   "execution_count": 9,
   "id": "cbd68fac-143d-4b88-87c7-a8718a492af4",
   "metadata": {},
   "outputs": [],
   "source": [
    "#Excercise-6 Write all content of a given file into a new file by skipping line number 5\n",
    "#read test.txt\n",
    "with open(\"test.txt\", \"r\") as fp:\n",
    "    # read all lines from a file\n",
    "    lines = fp.readlines()\n",
    "\n",
    "# open new file in write mode\n",
    "with open(\"new_file.txt\", \"w\") as fp:\n",
    "    count = 0\n",
    "    # iterate each lines from a test.txt\n",
    "    for line in lines:\n",
    "        # skip 5th lines\n",
    "        if count == 4:\n",
    "            count += 1\n",
    "            continue\n",
    "        else:\n",
    "            # write current line\n",
    "            fp.write(line)\n",
    "        # in each iteration reduce the count\n",
    "        count += 1"
   ]
  },
  {
   "cell_type": "code",
   "execution_count": 10,
   "id": "86213d2c-f647-402c-8c42-915bd895c57c",
   "metadata": {},
   "outputs": [],
   "source": [
    "# create a empty text file\n",
    "fp = open(\"test.txt\", 'w')\n",
    "fp.write('Line1')\n",
    "fp.write('Line2')\n",
    "fp.write('Line3')\n",
    "fp.write('Line4')\n",
    "fp.write('Line5')\n",
    "fp.write('line6')\n",
    "fp.close()\n"
   ]
  },
  {
   "cell_type": "code",
   "execution_count": 14,
   "id": "85f5641f-a7af-428c-9e9b-d3dc8785b60b",
   "metadata": {},
   "outputs": [
    {
     "name": "stdin",
     "output_type": "stream",
     "text": [
      "Enter three string kp kpn kpp\n"
     ]
    },
    {
     "name": "stdout",
     "output_type": "stream",
     "text": [
      "Name 1 is: kp\n",
      "Name 2 is: kpn\n",
      "Name 3 is: kpp\n"
     ]
    }
   ],
   "source": [
    "#Excercise-7 Accept any three string from one input() call\n",
    "str1, str2, str3= input(\"Enter three string\").split()\n",
    "print(\"Name 1 is:\",str1)\n",
    "print(\"Name 2 is:\",str2)\n",
    "print(\"Name 3 is:\",str3)\n"
   ]
  },
  {
   "cell_type": "code",
   "execution_count": 16,
   "id": "da826aa7-7cdc-4ebd-942e-b738e500677c",
   "metadata": {},
   "outputs": [
    {
     "name": "stdout",
     "output_type": "stream",
     "text": [
      "I have 1000 dollars so i can buy 3 football for 450.00 dollars.\n"
     ]
    }
   ],
   "source": [
    "# Excercise-8 Format Variables using a string.format() method \n",
    "#Write a program to use string.format() method to format the following three variables as per the expected output\n",
    "quantity=3\n",
    "totalmoney=1000\n",
    "price=450\n",
    "statement1=\"I have {1} dollars so i can buy {0} football for {2:.2f} dollars.\"\n",
    "print(statement1.format(quantity,totalmoney,price))"
   ]
  },
  {
   "cell_type": "code",
   "execution_count": 3,
   "id": "e1eefa68-3a48-4e2e-8e58-f603eec79adf",
   "metadata": {},
   "outputs": [],
   "source": [
    "#Excercise-9 Check file is empty or not\n",
    "# Write a program to check if the given file is empty or not\n",
    "#Use os.stat('file_name').st_size() function to get the file size.If it is 0 then the file is empty.\n",
    "import os\n",
    "size=os.stat(\"test.txt\").st_size\n",
    "if size==0:\n",
    "    print(\"The File is Empty\")"
   ]
  },
  {
   "cell_type": "code",
   "execution_count": 4,
   "id": "f54f80ec-fbd9-49b1-9b9d-75059ac9378f",
   "metadata": {},
   "outputs": [
    {
     "name": "stdout",
     "output_type": "stream",
     "text": [
      "The File is Empty\n"
     ]
    }
   ],
   "source": [
    "#Excercise-9 Check file is empty or not\n",
    "# Write a program to check if the given file is empty or not\n",
    "#Use os.stat('file_name').st_size() function to get the file size.If it is 0 then the file is empty.\n",
    "import os\n",
    "size=os.stat(\"sales.txt\").st_size\n",
    "if size==0:\n",
    "    print(\"The File is Empty\")"
   ]
  },
  {
   "cell_type": "code",
   "execution_count": 6,
   "id": "32dcaa3a-e144-40ec-ab81-da70c517c8f6",
   "metadata": {},
   "outputs": [
    {
     "name": "stdout",
     "output_type": "stream",
     "text": [
      "Line4\n",
      "\n"
     ]
    }
   ],
   "source": [
    "#Excercise-10 Read line number 4 from the following file\n",
    "# read file\n",
    "with open('test.txt','r') as fp:\n",
    "    #read all lines from a file\n",
    "    lines=fp.readlines()\n",
    "    #get line number 4\n",
    "    print(lines[3])"
   ]
  },
  {
   "cell_type": "code",
   "execution_count": null,
   "id": "39e1b5e5-740d-42c6-9562-bcd353c94af7",
   "metadata": {},
   "outputs": [],
   "source": []
  }
 ],
 "metadata": {
  "kernelspec": {
   "display_name": "Python 3 (ipykernel)",
   "language": "python",
   "name": "python3"
  },
  "language_info": {
   "codemirror_mode": {
    "name": "ipython",
    "version": 3
   },
   "file_extension": ".py",
   "mimetype": "text/x-python",
   "name": "python",
   "nbconvert_exporter": "python",
   "pygments_lexer": "ipython3",
   "version": "3.11.7"
  }
 },
 "nbformat": 4,
 "nbformat_minor": 5
}
